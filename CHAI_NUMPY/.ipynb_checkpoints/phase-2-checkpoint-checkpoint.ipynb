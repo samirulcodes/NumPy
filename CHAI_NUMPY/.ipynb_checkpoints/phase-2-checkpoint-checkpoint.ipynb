{
 "cells": [
  {
   "cell_type": "markdown",
   "id": "e6ac8971-1b9a-4fb4-a81a-868a5b32ddfc",
   "metadata": {},
   "source": [
    "## Numpy Array Operations"
   ]
  },
  {
   "cell_type": "code",
   "execution_count": 3,
   "id": "56fd56a9-e78f-4ad5-83ba-2b823f4b0fc9",
   "metadata": {},
   "outputs": [],
   "source": [
    "import numpy as np"
   ]
  },
  {
   "cell_type": "code",
   "execution_count": 7,
   "id": "9cc0887c-bc88-4fb8-8031-ba2639ed6319",
   "metadata": {},
   "outputs": [
    {
     "name": "stdout",
     "output_type": "stream",
     "text": [
      "Slicing  [3 4 5 6]\n",
      "Slicing with step  [3 5 7]\n",
      "Negative indexing  8\n"
     ]
    }
   ],
   "source": [
    "arr=np.array([1,2,3,4,5,6,7,8,9])\n",
    "print(\"Slicing \",arr[2:6])\n",
    "print(\"Slicing with step \",arr[2:8:2])\n",
    "print(\"Negative indexing \",arr[-2]) "
   ]
  },
  {
   "cell_type": "markdown",
   "id": "4d4fe657-5b79-4c14-bb23-97a36f5e0529",
   "metadata": {},
   "source": [
    "# Slicing on 2D Array"
   ]
  },
  {
   "cell_type": "code",
   "execution_count": 11,
   "id": "a8cf102b-c295-450b-b91c-e9616b9fd597",
   "metadata": {},
   "outputs": [
    {
     "name": "stdout",
     "output_type": "stream",
     "text": [
      "Specific elements  6\n",
      "Specific elements  [4 5 6]\n",
      "Specific elements  [2 5 8]\n"
     ]
    }
   ],
   "source": [
    "arr2=np.array([[1,2,3], # NOTE: rows start from 0\n",
    "               [4,5,6],\n",
    "               [7,8,9]])\n",
    "print(\"Specific elements \",arr2[1,2]) # start count from row wise to specific value, in this case [1,2] means 1st rows and 2nd value, o/p = 6 \n",
    "print(\"Specific elements \",arr2[1])  # print entire row, in this case print 1st row & o/p = 4,5,6\n",
    "print(\"Specific elements \",arr2[:,1]) # For specific coloumn, need all rows but require 2nd(1) coloumns, o/p = 2,5,8"
   ]
  },
  {
   "cell_type": "markdown",
   "id": "ddafaa17-d941-4bfc-a4d8-f0fdd7acfb4d",
   "metadata": {},
   "source": [
    "# Sorting"
   ]
  },
  {
   "cell_type": "code",
   "execution_count": 14,
   "id": "01226139-58a0-4599-b556-d5417f974347",
   "metadata": {},
   "outputs": [
    {
     "name": "stdout",
     "output_type": "stream",
     "text": [
      "[1 3 4 4 7 7 8 9]\n"
     ]
    }
   ],
   "source": [
    "unsorted=np.array([3,1,7,4,9,4,7,8]) # sorting 1D array\n",
    "print(np.sort(unsorted))"
   ]
  },
  {
   "cell_type": "code",
   "execution_count": 17,
   "id": "c264a6f1-1aaa-4270-942b-3d4e9892a929",
   "metadata": {},
   "outputs": [
    {
     "name": "stdout",
     "output_type": "stream",
     "text": [
      "[[1 1]\n",
      " [2 2]\n",
      " [3 3]]\n",
      "[[1 3]\n",
      " [1 2]\n",
      " [2 3]]\n"
     ]
    }
   ],
   "source": [
    "arr_2_unsorted=np.array([[3,1],\n",
    "                         [1,2],\n",
    "                         [2,3]])\n",
    "print(np.sort(arr_2_unsorted,axis=0)) # sort by coloumns, axix=0\n",
    "print(np.sort(arr_2_unsorted,axis=1)) # sort by rows, axix=1"
   ]
  },
  {
   "cell_type": "markdown",
   "id": "ed7afca8-7b7a-46fb-bd7b-1d93e8026093",
   "metadata": {},
   "source": [
    "# Filter"
   ]
  },
  {
   "cell_type": "code",
   "execution_count": 26,
   "id": "d0f9e4b3-2012-4b7e-b31d-2271670a28d6",
   "metadata": {},
   "outputs": [
    {
     "name": "stdout",
     "output_type": "stream",
     "text": [
      "[ 2  4  6  8 10]\n"
     ]
    }
   ],
   "source": [
    "num=np.array([1,2,3,4,5,6,7,8,9,10])\n",
    "even_num=num[num % 2== 0]\n",
    "print(even_num)"
   ]
  },
  {
   "cell_type": "markdown",
   "id": "e3cb5213-eb1c-4f86-a727-ae4e849fae95",
   "metadata": {},
   "source": [
    "# Filter With Mask"
   ]
  },
  {
   "cell_type": "code",
   "execution_count": 30,
   "id": "493420e0-67d4-4194-9996-22a9df0d0663",
   "metadata": {},
   "outputs": [
    {
     "name": "stdout",
     "output_type": "stream",
     "text": [
      "Numbers greater than five:  [ 6  7  8  9 10]\n"
     ]
    }
   ],
   "source": [
    "mask= num > 5 # mask can be used for evaluate the expression\n",
    "print(\"Numbers greater than five: \",num[mask]) # o/p = Numbers greater than five:  [ 6  7  8  9 10]"
   ]
  }
 ],
 "metadata": {
  "kernelspec": {
   "display_name": "Python 3 (ipykernel)",
   "language": "python",
   "name": "python3"
  },
  "language_info": {
   "codemirror_mode": {
    "name": "ipython",
    "version": 3
   },
   "file_extension": ".py",
   "mimetype": "text/x-python",
   "name": "python",
   "nbconvert_exporter": "python",
   "pygments_lexer": "ipython3",
   "version": "3.13.0"
  }
 },
 "nbformat": 4,
 "nbformat_minor": 5
}
