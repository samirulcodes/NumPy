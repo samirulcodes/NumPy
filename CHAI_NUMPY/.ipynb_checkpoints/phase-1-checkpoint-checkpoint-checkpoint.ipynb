{
 "cells": [
  {
   "cell_type": "markdown",
   "id": "16b529d6",
   "metadata": {},
   "source": [
    "## NUMPY"
   ]
  },
  {
   "cell_type": "code",
   "execution_count": 1,
   "id": "19c44842",
   "metadata": {},
   "outputs": [],
   "source": [
    "import numpy as np\n",
    "import time"
   ]
  },
  {
   "cell_type": "markdown",
   "id": "ae54600a-4a73-44f0-b490-89272c1a92c7",
   "metadata": {},
   "source": [
    "## Creating array from list"
   ]
  },
  {
   "cell_type": "code",
   "execution_count": 2,
   "id": "2fcfbb1a-27d1-433a-91db-a52013578aab",
   "metadata": {},
   "outputs": [
    {
     "name": "stdout",
     "output_type": "stream",
     "text": [
      "[1 2 3]\n"
     ]
    }
   ],
   "source": [
    " arr_1d=np.array([1,2,3])\n",
    "print(arr_1d)"
   ]
  },
  {
   "cell_type": "code",
   "execution_count": 3,
   "id": "253313cd-cf10-4351-b49c-96eec899a273",
   "metadata": {},
   "outputs": [
    {
     "name": "stdout",
     "output_type": "stream",
     "text": [
      "[[1 2 3]\n",
      " [4 5 6]]\n"
     ]
    }
   ],
   "source": [
    " arr_2d=np.array([\n",
    "                 [1,2,3],\n",
    "                 [4,5,6]\n",
    "                 ])\n",
    "print(arr_2d)"
   ]
  },
  {
   "cell_type": "markdown",
   "id": "b2f1b42d-624f-4e5c-a82c-1e6f6ba21ab9",
   "metadata": {},
   "source": [
    "## List vs Numpy Array"
   ]
  },
  {
   "cell_type": "code",
   "execution_count": 4,
   "id": "64af7274-bc69-4095-83c7-cfbebf9a634e",
   "metadata": {},
   "outputs": [
    {
     "name": "stdout",
     "output_type": "stream",
     "text": [
      "Python list multiplication [1, 2, 3, 1, 2, 3]\n",
      "Python array multiplication [2 4 6]\n"
     ]
    }
   ],
   "source": [
    "py_list=[1,2,3]\n",
    "print(\"Python list multiplication\",py_list * 2)\n",
    "\n",
    "np_array=np.array([1,2,3]) # element wise multiplication\n",
    "print(\"Python array multiplication\",np_array * 2)"
   ]
  },
  {
   "cell_type": "code",
   "execution_count": 7,
   "id": "dbda980d-c170-44f5-b763-5217de5e5609",
   "metadata": {},
   "outputs": [
    {
     "name": "stdout",
     "output_type": "stream",
     "text": [
      "List opeartion time:  0.00635528564453125\n",
      "Numpy opeartion time:  0.0018992424011230469\n"
     ]
    }
   ],
   "source": [
    "start=time.time()\n",
    "py_list=[i*2 for i in range(100000)]\n",
    "print(\"List opeartion time: \",time.time() - start)\n",
    "\n",
    "start=time.time() # Numpy is too fast compare to python list\n",
    "np_array=np.arange(100000) * 2\n",
    "print(\"Numpy opeartion time: \",time.time() - start)"
   ]
  },
  {
   "cell_type": "markdown",
   "id": "cec39602-29cb-40bc-872a-43628c36b4c0",
   "metadata": {},
   "source": [
    "## Creating array from scratch"
   ]
  },
  {
   "cell_type": "code",
   "execution_count": 5,
   "id": "2411843d-e5e8-4965-be42-ddae70195900",
   "metadata": {},
   "outputs": [
    {
     "name": "stdout",
     "output_type": "stream",
     "text": [
      "[[0. 0. 0. 0.]\n",
      " [0. 0. 0. 0.]\n",
      " [0. 0. 0. 0.]]\n"
     ]
    }
   ],
   "source": [
    "zeros=np.zeros((3,4)) # provide matrix all zeros of 3,4 rows and coloumns respectively\n",
    "print(zeros)"
   ]
  },
  {
   "cell_type": "code",
   "execution_count": 6,
   "id": "08edb5ff-1dc7-49e8-bdce-c95f069deb9c",
   "metadata": {},
   "outputs": [
    {
     "name": "stdout",
     "output_type": "stream",
     "text": [
      "[[1. 1. 1. 1.]\n",
      " [1. 1. 1. 1.]\n",
      " [1. 1. 1. 1.]]\n"
     ]
    }
   ],
   "source": [
    "ones=np.ones((3,4))#provide matrix all ones of 3,4 rows and coloumns respectively\n",
    "print(ones)"
   ]
  },
  {
   "cell_type": "code",
   "execution_count": 7,
   "id": "90954410-02c6-4f0d-9622-4c38f575edf0",
   "metadata": {},
   "outputs": [
    {
     "name": "stdout",
     "output_type": "stream",
     "text": [
      "[[6 6]\n",
      " [6 6]]\n"
     ]
    }
   ],
   "source": [
    "full=np.full((2,2),6) # full- create a 2,2 matrix for number 6(all values will be 6) \n",
    "print(full)                   # similarly for any no. like 3,5,8 etc "
   ]
  },
  {
   "cell_type": "code",
   "execution_count": 8,
   "id": "ecaf6c52-c558-4263-952e-a35dafe8fa93",
   "metadata": {},
   "outputs": [
    {
     "name": "stdout",
     "output_type": "stream",
     "text": [
      "Random Array  [[0.88505051 0.36703008 0.42691057]\n",
      " [0.04062799 0.47994101 0.45078048]]\n"
     ]
    }
   ],
   "source": [
    "random=np.random.random((2,3)) # create a 2,3 random matrix between 0 & 1\n",
    "print(\"Random Array \",random)"
   ]
  },
  {
   "cell_type": "code",
   "execution_count": 9,
   "id": "e92267be-6844-428b-8d04-db7ed225ad09",
   "metadata": {},
   "outputs": [
    {
     "name": "stdout",
     "output_type": "stream",
     "text": [
      "[0 2 4 6 8]\n"
     ]
    }
   ],
   "source": [
    "sequence=np.arange(0,10,2) # create a array between 0 & 10 and step of 2 - o/p->[0 2 4 6 8]\n",
    "print(sequence)"
   ]
  },
  {
   "cell_type": "markdown",
   "id": "4bb2f45f-7405-4532-b1d7-e65f6aa59dcd",
   "metadata": {},
   "source": [
    "## Vector, Matrix and Tensor"
   ]
  },
  {
   "cell_type": "code",
   "execution_count": 11,
   "id": "cb34ebaa-1417-4372-9742-41a35113f91c",
   "metadata": {},
   "outputs": [
    {
     "name": "stdout",
     "output_type": "stream",
     "text": [
      "[1 2 3]\n"
     ]
    }
   ],
   "source": [
    "vector=np.array([1,2,3]) # 1D array=vector\n",
    "print(vector)"
   ]
  },
  {
   "cell_type": "code",
   "execution_count": 13,
   "id": "7907541d-72cf-458e-8942-d023b70857f7",
   "metadata": {},
   "outputs": [
    {
     "name": "stdout",
     "output_type": "stream",
     "text": [
      "[[1 2 3]\n",
      " [4 5 6]]\n"
     ]
    }
   ],
   "source": [
    "matrix=np.array([[1,2,3], # 2D array=matrix\n",
    "                [4,5,6]]) \n",
    "print(matrix)"
   ]
  },
  {
   "cell_type": "code",
   "execution_count": 14,
   "id": "5c3c230f-4dc0-42d2-828f-d9975a3ff6b4",
   "metadata": {},
   "outputs": [
    {
     "name": "stdout",
     "output_type": "stream",
     "text": [
      "[[[1 2]\n",
      "  [3 4]]\n",
      "\n",
      " [[5 6]\n",
      "  [7 8]]]\n"
     ]
    }
   ],
   "source": [
    "tensor=np.array([[[1,2],[3,4]], # Tensor->Multi-Dimension array- in tensor there are more dimension\n",
    "                 [[5,6],[7,8]]])\n",
    "print(tensor)"
   ]
  },
  {
   "cell_type": "markdown",
   "id": "f6af8861-3f35-400d-8122-ba6beb672809",
   "metadata": {},
   "source": [
    "## Array properties"
   ]
  },
  {
   "cell_type": "code",
   "execution_count": 35,
   "id": "64bffae2-984c-4139-b5fa-c7a7ff00c657",
   "metadata": {},
   "outputs": [
    {
     "data": {
      "text/plain": [
       "dtype('int64')"
      ]
     },
     "execution_count": 35,
     "metadata": {},
     "output_type": "execute_result"
    }
   ],
   "source": [
    "arr=np.array([[1,2,3],\n",
    "                [4,5,6]]) \n",
    "arr.shape # provide the shape , in this case 2,3 rows & coloumn respectively\n",
    "arr.size  # provide the size of elements, in this case 6 elements\n",
    "arr.ndim  # provide the dimension of array, in this case 2 dimension\n",
    "arr.dtype # provide data type - o/p - dtype('int64')"
   ]
  },
  {
   "cell_type": "markdown",
   "id": "fdeee243-ca19-48ee-a9df-b248e4cbd579",
   "metadata": {},
   "source": [
    "## Array Reshaped"
   ]
  },
  {
   "cell_type": "code",
   "execution_count": 37,
   "id": "68124c7c-7b13-428f-8fbc-fa06d571bb34",
   "metadata": {},
   "outputs": [
    {
     "name": "stdout",
     "output_type": "stream",
     "text": [
      "[ 0  1  2  3  4  5  6  7  8  9 10 11]\n"
     ]
    }
   ],
   "source": [
    "arr=np.arange(12) # create array from 0 to 11\n",
    "print(arr)"
   ]
  },
  {
   "cell_type": "code",
   "execution_count": 51,
   "id": "0ecfc380-fd0c-406a-998a-e58452677741",
   "metadata": {},
   "outputs": [
    {
     "name": "stdout",
     "output_type": "stream",
     "text": [
      "Reshaped Array\n",
      " [[ 0  1  2  3]\n",
      " [ 4  5  6  7]\n",
      " [ 8  9 10 11]]\n"
     ]
    }
   ],
   "source": [
    "reshaped=arr.reshape(3,4) # convert in 3,4 matrix from a 1D array\n",
    "print(\"Reshaped Array\\n\",reshaped)"
   ]
  },
  {
   "cell_type": "code",
   "execution_count": 43,
   "id": "3bf65508-c9be-4721-90ab-653833d5e381",
   "metadata": {},
   "outputs": [
    {
     "name": "stdout",
     "output_type": "stream",
     "text": [
      "Flattened Array  [ 0  1  2  3  4  5  6  7  8  9 10 11]\n"
     ]
    }
   ],
   "source": [
    "flattened=reshaped.flatten() # convert in flat array i.e in 1D or in one line array from 2D array or from ant like 3,4 matrix -\n",
    "print(\"Flattened Array \",flattened) # but it provide a copy , original(reshaped) value will remain same"
   ]
  },
  {
   "cell_type": "code",
   "execution_count": 46,
   "id": "ba307bc0-fadc-4446-9091-129d4bca4e09",
   "metadata": {},
   "outputs": [
    {
     "name": "stdout",
     "output_type": "stream",
     "text": [
      "Raveled Array  [ 0  1  2  3  4  5  6  7  8  9 10 11]\n"
     ]
    }
   ],
   "source": [
    "raveled=reshaped.ravel() # same o/p as from flatten() methods but it return view, instead of copy\n",
    "print(\"Raveled Array \",raveled)"
   ]
  },
  {
   "cell_type": "code",
   "execution_count": 55,
   "id": "9e8e6e80-27ec-45a5-a9aa-1d4a4499a659",
   "metadata": {},
   "outputs": [
    {
     "data": {
      "text/plain": [
       "array([[ 0,  4,  8],\n",
       "       [ 1,  5,  9],\n",
       "       [ 2,  6, 10],\n",
       "       [ 3,  7, 11]])"
      ]
     },
     "execution_count": 55,
     "metadata": {},
     "output_type": "execute_result"
    }
   ],
   "source": [
    "reshaped.T # T(Transpose)- this methods convert row to coloumns and coloumns to row"
   ]
  }
 ],
 "metadata": {
  "kernelspec": {
   "display_name": "Python 3 (ipykernel)",
   "language": "python",
   "name": "python3"
  },
  "language_info": {
   "codemirror_mode": {
    "name": "ipython",
    "version": 3
   },
   "file_extension": ".py",
   "mimetype": "text/x-python",
   "name": "python",
   "nbconvert_exporter": "python",
   "pygments_lexer": "ipython3",
   "version": "3.13.0"
  }
 },
 "nbformat": 4,
 "nbformat_minor": 5
}
