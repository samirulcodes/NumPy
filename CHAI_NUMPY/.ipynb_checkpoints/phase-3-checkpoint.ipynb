{
 "cells": [
  {
   "cell_type": "markdown",
   "id": "18b51c26-61c6-4c43-989c-9740dafc3827",
   "metadata": {},
   "source": [
    "# Advance Operations With Business Examples"
   ]
  },
  {
   "cell_type": "code",
   "execution_count": 5,
   "id": "985baa3a-eae0-4d3a-a53d-c8288d426512",
   "metadata": {},
   "outputs": [],
   "source": [
    "import numpy as np\n",
    "import matplotlib.pyplot as plt"
   ]
  },
  {
   "cell_type": "code",
   "execution_count": 4,
   "id": "94dfa6cb-1607-4dfd-835f-7362ba220d4c",
   "metadata": {},
   "outputs": [],
   "source": [
    "#  Data Structure: [restaurant_id,2021,2022,2023,2024]\n",
    "sales_data=np.array([\n",
    "    [1, 150000, 180000, 220000, 250000], # paradise biryani\n",
    "    [2, 120000, 140000, 160000, 200000], # Beijing bites\n",
    "    [3, 200000, 230000, 260000, 300000], # Pizza hub\n",
    "    [4, 180000, 210000, 240000, 270000], # Burger point\n",
    "    [5, 160000, 185000, 205000, 230000]  # Chai point\n",
    "])"
   ]
  },
  {
   "cell_type": "code",
   "execution_count": 8,
   "id": "8808bc57-208b-45a0-90ce-4dccf2979f37",
   "metadata": {},
   "outputs": [
    {
     "name": "stdout",
     "output_type": "stream",
     "text": [
      " first 3 restaurant details\n",
      " [[     1 150000 180000 220000 250000]\n",
      " [     2 120000 140000 160000 200000]\n",
      " [     3 200000 230000 260000 300000]]\n"
     ]
    }
   ],
   "source": [
    "# Find first 3 restaurant details\n",
    "print(\" first 3 restaurant details\\n\",sales_data[0:3])"
   ]
  },
  {
   "cell_type": "code",
   "execution_count": 10,
   "id": "c751013b-e9d4-4f3c-9d6e-7d5be24c179c",
   "metadata": {},
   "outputs": [
    {
     "name": "stdout",
     "output_type": "stream",
     "text": [
      "[     15  810000  945000 1085000 1250000]\n"
     ]
    }
   ],
   "source": [
    "#  Total sales per year\n",
    "print(np.sum(sales_data, axis=0)) # axis=0 , add coloumn wise like for 2021- 150000+120000+200000+180000+160000= 810000 and so on..."
   ]
  },
  {
   "cell_type": "code",
   "execution_count": 17,
   "id": "eb91c034-7ec7-4ec0-a27c-3062773ebd4f",
   "metadata": {},
   "outputs": [
    {
     "name": "stdout",
     "output_type": "stream",
     "text": [
      "[150000 120000 200000 180000 160000]\n"
     ]
    }
   ],
   "source": [
    "# Minimum sales per \n",
    "min_sales=np.min(sales_data[:, 1:], axis=1)\n",
    "print(min_sales)"
   ]
  }
 ],
 "metadata": {
  "kernelspec": {
   "display_name": "Python 3 (ipykernel)",
   "language": "python",
   "name": "python3"
  },
  "language_info": {
   "codemirror_mode": {
    "name": "ipython",
    "version": 3
   },
   "file_extension": ".py",
   "mimetype": "text/x-python",
   "name": "python",
   "nbconvert_exporter": "python",
   "pygments_lexer": "ipython3",
   "version": "3.13.0"
  }
 },
 "nbformat": 4,
 "nbformat_minor": 5
}
