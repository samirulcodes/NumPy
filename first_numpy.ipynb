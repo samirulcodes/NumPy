{
 "cells": [
  {
   "cell_type": "code",
   "execution_count": 1,
   "id": "5298b455-8864-497c-8a2a-05ae4e76684b",
   "metadata": {},
   "outputs": [],
   "source": [
    "import numpy as np"
   ]
  },
  {
   "cell_type": "code",
   "execution_count": 2,
   "id": "e533ae8c-c4ad-4dd2-8e7e-09f4147fb1ff",
   "metadata": {},
   "outputs": [],
   "source": [
    "myarr=np.array([2,10,24,12])"
   ]
  },
  {
   "cell_type": "code",
   "execution_count": 3,
   "id": "17342348-f192-4f8f-af1f-1ea83c5f11b3",
   "metadata": {},
   "outputs": [
    {
     "data": {
      "text/plain": [
       "array([ 2, 10, 24, 12])"
      ]
     },
     "execution_count": 3,
     "metadata": {},
     "output_type": "execute_result"
    }
   ],
   "source": [
    "myarr"
   ]
  },
  {
   "cell_type": "code",
   "execution_count": 4,
   "id": "76dc3fc4-acb6-4d44-aa8b-9e9894384648",
   "metadata": {},
   "outputs": [
    {
     "name": "stdout",
     "output_type": "stream",
     "text": [
      "<class 'numpy.ndarray'>\n"
     ]
    }
   ],
   "source": [
    "print(type(myarr))"
   ]
  },
  {
   "cell_type": "code",
   "execution_count": 5,
   "id": "b2c2e7d5-8ab0-43be-be03-7a706e9b26a9",
   "metadata": {},
   "outputs": [
    {
     "data": {
      "text/plain": [
       "dtype('int64')"
      ]
     },
     "execution_count": 5,
     "metadata": {},
     "output_type": "execute_result"
    }
   ],
   "source": [
    "myarr.dtype"
   ]
  },
  {
   "cell_type": "code",
   "execution_count": 6,
   "id": "51777e08-c158-4db2-8454-4ad448ae5d89",
   "metadata": {},
   "outputs": [],
   "source": [
    "myarr=np.array([2,10,24,12],np.int64)"
   ]
  },
  {
   "cell_type": "code",
   "execution_count": 7,
   "id": "278275a1-7a95-4f14-8ed8-6774c72b94b7",
   "metadata": {},
   "outputs": [
    {
     "data": {
      "text/plain": [
       "dtype('int64')"
      ]
     },
     "execution_count": 7,
     "metadata": {},
     "output_type": "execute_result"
    }
   ],
   "source": [
    "myarr.dtype"
   ]
  },
  {
   "cell_type": "code",
   "execution_count": 8,
   "id": "32b7cbeb-56b3-4f15-87cb-7882a3d29142",
   "metadata": {},
   "outputs": [],
   "source": [
    "myarr=np.array([2,10,24,12.3])"
   ]
  },
  {
   "cell_type": "code",
   "execution_count": 9,
   "id": "a3c9a4c7-80e1-42bc-8a2a-27cd11558406",
   "metadata": {},
   "outputs": [
    {
     "data": {
      "text/plain": [
       "dtype('float64')"
      ]
     },
     "execution_count": 9,
     "metadata": {},
     "output_type": "execute_result"
    }
   ],
   "source": [
    "myarr.dtype"
   ]
  },
  {
   "cell_type": "code",
   "execution_count": 10,
   "id": "c2c8ae68-a725-426b-924f-2756dc82edf5",
   "metadata": {},
   "outputs": [
    {
     "name": "stdout",
     "output_type": "stream",
     "text": [
      "2.0\n",
      "10.0\n",
      "24.0\n",
      "12.3\n"
     ]
    }
   ],
   "source": [
    "for i in myarr:\n",
    "    print(i)"
   ]
  },
  {
   "cell_type": "code",
   "execution_count": 11,
   "id": "3e922737-4168-4539-b26e-04c14b9b065d",
   "metadata": {},
   "outputs": [
    {
     "name": "stdout",
     "output_type": "stream",
     "text": [
      "[ 2. 10. 24.]\n"
     ]
    }
   ],
   "source": [
    "print(myarr[0:3])"
   ]
  },
  {
   "cell_type": "code",
   "execution_count": 12,
   "id": "9e61165f-1c62-417a-96ed-61c5047207d2",
   "metadata": {},
   "outputs": [],
   "source": [
    "zeros=np.zeros((2,5))"
   ]
  },
  {
   "cell_type": "code",
   "execution_count": 13,
   "id": "32799c6c-c4e0-4d97-9775-5be1dcd8f0a6",
   "metadata": {},
   "outputs": [
    {
     "data": {
      "text/plain": [
       "array([[0., 0., 0., 0., 0.],\n",
       "       [0., 0., 0., 0., 0.]])"
      ]
     },
     "execution_count": 13,
     "metadata": {},
     "output_type": "execute_result"
    }
   ],
   "source": [
    "zeros"
   ]
  },
  {
   "cell_type": "code",
   "execution_count": 14,
   "id": "c4bb1622-ad33-485b-b9bd-b44e7d4b367e",
   "metadata": {},
   "outputs": [],
   "source": [
    "zeros=np.ones((2,5))"
   ]
  },
  {
   "cell_type": "code",
   "execution_count": 15,
   "id": "0e6c33ab-a125-45a7-b3d1-890c78e424ae",
   "metadata": {},
   "outputs": [
    {
     "data": {
      "text/plain": [
       "array([[1., 1., 1., 1., 1.],\n",
       "       [1., 1., 1., 1., 1.]])"
      ]
     },
     "execution_count": 15,
     "metadata": {},
     "output_type": "execute_result"
    }
   ],
   "source": [
    "zeros"
   ]
  },
  {
   "cell_type": "code",
   "execution_count": 16,
   "id": "3ef9673a-cafe-4ed3-bc5b-eb8450031b57",
   "metadata": {},
   "outputs": [],
   "source": [
    "ide=np.eye(4)"
   ]
  },
  {
   "cell_type": "code",
   "execution_count": 17,
   "id": "bb05229d-2b8b-4bcd-8784-c2ff50503cab",
   "metadata": {},
   "outputs": [
    {
     "data": {
      "text/plain": [
       "array([[1., 0., 0., 0.],\n",
       "       [0., 1., 0., 0.],\n",
       "       [0., 0., 1., 0.],\n",
       "       [0., 0., 0., 1.]])"
      ]
     },
     "execution_count": 17,
     "metadata": {},
     "output_type": "execute_result"
    }
   ],
   "source": [
    "ide"
   ]
  },
  {
   "cell_type": "code",
   "execution_count": 18,
   "id": "10e2d13e-f0d5-40ee-bb25-64b5523143a4",
   "metadata": {},
   "outputs": [],
   "source": [
    "ide=np.identity(4)"
   ]
  },
  {
   "cell_type": "code",
   "execution_count": 19,
   "id": "2a182559-d16f-4bc1-b6f4-16f271a2a421",
   "metadata": {},
   "outputs": [
    {
     "data": {
      "text/plain": [
       "array([[1., 0., 0., 0.],\n",
       "       [0., 1., 0., 0.],\n",
       "       [0., 0., 1., 0.],\n",
       "       [0., 0., 0., 1.]])"
      ]
     },
     "execution_count": 19,
     "metadata": {},
     "output_type": "execute_result"
    }
   ],
   "source": [
    "ide"
   ]
  },
  {
   "cell_type": "code",
   "execution_count": 20,
   "id": "cbba737c-d769-4f88-b097-445277ba7b2a",
   "metadata": {},
   "outputs": [
    {
     "data": {
      "text/plain": [
       "array([[3.36212311, 4.92445749, 9.53883719, 0.6871969 , 5.68795503],\n",
       "       [0.11407166, 9.94251892, 1.84953097, 4.7087012 , 1.23446579]])"
      ]
     },
     "execution_count": 20,
     "metadata": {},
     "output_type": "execute_result"
    }
   ],
   "source": [
    "rand=np.random.random((2,5))\n",
    "rand*10"
   ]
  },
  {
   "cell_type": "code",
   "execution_count": 21,
   "id": "c7b8f36b-11a9-4921-a798-757f694278bc",
   "metadata": {},
   "outputs": [
    {
     "data": {
      "text/plain": [
       "10"
      ]
     },
     "execution_count": 21,
     "metadata": {},
     "output_type": "execute_result"
    }
   ],
   "source": [
    "rand.size"
   ]
  },
  {
   "cell_type": "code",
   "execution_count": 22,
   "id": "e17ea915-94b2-4435-abec-3e6cad8dba85",
   "metadata": {},
   "outputs": [
    {
     "data": {
      "text/plain": [
       "(2, 5)"
      ]
     },
     "execution_count": 22,
     "metadata": {},
     "output_type": "execute_result"
    }
   ],
   "source": [
    "rand.shape"
   ]
  },
  {
   "cell_type": "code",
   "execution_count": 23,
   "id": "2694a350-be1c-4644-ad5e-02b3aaf79e8f",
   "metadata": {},
   "outputs": [
    {
     "data": {
      "text/plain": [
       "array([[0.33621231, 0.49244575],\n",
       "       [0.95388372, 0.06871969],\n",
       "       [0.5687955 , 0.01140717],\n",
       "       [0.99425189, 0.1849531 ],\n",
       "       [0.47087012, 0.12344658]])"
      ]
     },
     "execution_count": 23,
     "metadata": {},
     "output_type": "execute_result"
    }
   ],
   "source": [
    "rand.reshape(5,2)"
   ]
  },
  {
   "cell_type": "code",
   "execution_count": 24,
   "id": "fffaabd5-e8bf-44b8-9aca-e770bc1c8021",
   "metadata": {},
   "outputs": [
    {
     "data": {
      "text/plain": [
       "array([ 2. , 10. , 24. , 12.3])"
      ]
     },
     "execution_count": 24,
     "metadata": {},
     "output_type": "execute_result"
    }
   ],
   "source": [
    "myarr"
   ]
  },
  {
   "cell_type": "code",
   "execution_count": 25,
   "id": "eecc4aa6-3fa7-4caa-86b0-888cd9ebadd6",
   "metadata": {},
   "outputs": [
    {
     "name": "stdout",
     "output_type": "stream",
     "text": [
      "24.0\n"
     ]
    }
   ],
   "source": [
    "print(max(myarr))"
   ]
  },
  {
   "cell_type": "code",
   "execution_count": 26,
   "id": "de79704f-14c8-4904-9bd6-50247735522d",
   "metadata": {},
   "outputs": [
    {
     "name": "stdout",
     "output_type": "stream",
     "text": [
      "2.0\n"
     ]
    }
   ],
   "source": [
    "print(min(myarr))"
   ]
  },
  {
   "cell_type": "code",
   "execution_count": 27,
   "id": "b5ff0f65-8dca-4cdc-b086-7ab554a0b593",
   "metadata": {},
   "outputs": [
    {
     "name": "stdout",
     "output_type": "stream",
     "text": [
      "[ 4.  20.  48.  24.6]\n"
     ]
    }
   ],
   "source": [
    "print(myarr*2)"
   ]
  },
  {
   "cell_type": "code",
   "execution_count": null,
   "id": "60a3ffe9-1a2c-4203-99e8-82f6a0d34cbd",
   "metadata": {},
   "outputs": [],
   "source": []
  }
 ],
 "metadata": {
  "kernelspec": {
   "display_name": "Python 3 (ipykernel)",
   "language": "python",
   "name": "python3"
  },
  "language_info": {
   "codemirror_mode": {
    "name": "ipython",
    "version": 3
   },
   "file_extension": ".py",
   "mimetype": "text/x-python",
   "name": "python",
   "nbconvert_exporter": "python",
   "pygments_lexer": "ipython3",
   "version": "3.13.0"
  }
 },
 "nbformat": 4,
 "nbformat_minor": 5
}
